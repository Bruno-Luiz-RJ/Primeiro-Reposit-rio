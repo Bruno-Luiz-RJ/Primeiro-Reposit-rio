{
  "nbformat": 4,
  "nbformat_minor": 0,
  "metadata": {
    "colab": {
      "provenance": [],
      "authorship_tag": "ABX9TyNfwIzUcQT3n2iOU1JhrYRF",
      "include_colab_link": true
    },
    "kernelspec": {
      "name": "python3",
      "display_name": "Python 3"
    },
    "language_info": {
      "name": "python"
    }
  },
  "cells": [
    {
      "cell_type": "markdown",
      "metadata": {
        "id": "view-in-github",
        "colab_type": "text"
      },
      "source": [
        "<a href=\"https://colab.research.google.com/github/Bruno-Luiz-RJ/Primeiro-Reposit-rio/blob/main/TESTE%20EST%C3%81CIO.ipynb\" target=\"_parent\"><img src=\"https://colab.research.google.com/assets/colab-badge.svg\" alt=\"Open In Colab\"/></a>"
      ]
    },
    {
      "cell_type": "code",
      "source": [
        "from datetime import date\n",
        "class Pessoa:\n",
        "  def __init__(self, nome, idade):\n",
        "    self.nome = nome\n",
        "    self.idade = idade\n",
        "  #Um método de classe para criar\n",
        "  #Um objeto Pessoa através do ano de nascimento.\n",
        "  @classmethod\n",
        "  def apartirAnoNascimento(cls, nome, ano):\n",
        "    return cls(nome, date.today().year - ano)\n",
        "  #Método Estático: verificar se é maior de idade.\n",
        "  @staticmethod\n",
        "  def ehMaiorIdade(idade):\n",
        "    return idade >=18\n",
        "pessoa1 = Pessoa('Maria', 26)\n",
        "pessoa2 = Pessoa.apartirAnoNascimento('Ana', 2006)\n",
        "print(pessoa1.idade)\n",
        "print(pessoa2.idade)\n",
        "#imprimir o resultado\n",
        "print(Pessoa.ehMaiorIdade(17))\n"
      ],
      "metadata": {
        "colab": {
          "base_uri": "https://localhost:8080/"
        },
        "id": "T3d87eLiRzHE",
        "outputId": "c39951f8-93b4-4bbc-eefa-e36f38d6849e"
      },
      "execution_count": 22,
      "outputs": [
        {
          "output_type": "stream",
          "name": "stdout",
          "text": [
            "26\n",
            "18\n",
            "False\n"
          ]
        }
      ]
    }
  ]
}